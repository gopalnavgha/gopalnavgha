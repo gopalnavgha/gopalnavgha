{
 "cells": [
  {
   "cell_type": "code",
   "execution_count": null,
   "id": "454867f7",
   "metadata": {},
   "outputs": [],
   "source": [
    "number = int(input('Enter a 3 digit number'))"
   ]
  },
  {
   "cell_type": "code",
   "execution_count": 1,
   "id": "1a80a8a9",
   "metadata": {},
   "outputs": [
    {
     "name": "stdout",
     "output_type": "stream",
     "text": [
      "value of b= -2.0\n",
      "value of b= 2.5\n",
      "value of b= -0.0\n",
      "NameError occured anf handled\n"
     ]
    }
   ],
   "source": [
    "def f(a) :\n",
    "    a<4\n",
    "    b =a/(a-3)\n",
    "    print(\"value of b=\",b)\n",
    "\n",
    "try:\n",
    "    f(2)\n",
    "    f(5)\n",
    "    f(0)\n",
    "    fddjfjfffjfj\n",
    "except ZeroDivisionError:\n",
    "    print(\"ZeroDivisionError occured and handled \")\n",
    "except NameError :\n",
    "    print(\"NameError occured anf handled\")"
   ]
  },
  {
   "cell_type": "code",
   "execution_count": null,
   "id": "0e668eff",
   "metadata": {},
   "outputs": [],
   "source": []
  }
 ],
 "metadata": {
  "kernelspec": {
   "display_name": "Python 3 (ipykernel)",
   "language": "python",
   "name": "python3"
  },
  "language_info": {
   "codemirror_mode": {
    "name": "ipython",
    "version": 3
   },
   "file_extension": ".py",
   "mimetype": "text/x-python",
   "name": "python",
   "nbconvert_exporter": "python",
   "pygments_lexer": "ipython3",
   "version": "3.11.7"
  }
 },
 "nbformat": 4,
 "nbformat_minor": 5
}
